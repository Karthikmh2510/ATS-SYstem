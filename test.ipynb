{
 "cells": [
  {
   "cell_type": "code",
   "execution_count": 6,
   "metadata": {},
   "outputs": [],
   "source": [
    "import os\n",
    "import streamlit as st\n",
    "from PIL import Image\n",
    "import pdf2image\n"
   ]
  },
  {
   "cell_type": "code",
   "execution_count": 7,
   "metadata": {},
   "outputs": [
    {
     "data": {
      "text/plain": [
       "True"
      ]
     },
     "execution_count": 7,
     "metadata": {},
     "output_type": "execute_result"
    }
   ],
   "source": [
    "from dotenv import load_dotenv\n",
    "load_dotenv()"
   ]
  },
  {
   "cell_type": "code",
   "execution_count": 8,
   "metadata": {},
   "outputs": [],
   "source": [
    "import google.generativeai as genai\n",
    "genai.configure(api_key=os.getenv(\"GOOGLE_API_KEY\"))"
   ]
  },
  {
   "cell_type": "code",
   "execution_count": 1,
   "metadata": {},
   "outputs": [],
   "source": [
    "def get_gemini_response(input, pdf_content, prompt):\n",
    "    model = genai.GenerativeModel('gemini-1.5-flash')\n",
    "    response = model.generate_content([\n",
    "        input, pdf_content[0], prompt\n",
    "    ])\n",
    "    return response.text"
   ]
  },
  {
   "cell_type": "code",
   "execution_count": 15,
   "metadata": {},
   "outputs": [],
   "source": [
    "import io\n",
    "import base64\n",
    "def input_pdf_setup(uploaded_file):\n",
    "    if uploaded_file is not None:\n",
    "        # Let's convert this PDF to image\n",
    "        images = pdf2image.convert_from_bytes(uploaded_file.read())\n",
    "        first_page = images[0]\n",
    "\n",
    "        # Convert to bytes\n",
    "        img_byte_arr = io.BytesIO()\n",
    "        first_page.save(img_byte_arr, format='JPEG')\n",
    "        img_byte_arr = img_byte_arr.getvalue()\n",
    "\n",
    "        pdf_parts = [\n",
    "            {\n",
    "                \"mime_type\" : \"image/jpeg\",\n",
    "                \"data\" : base64.b64encode(img_byte_arr).decode() #encoding to base64\n",
    "            }\n",
    "        ]\n",
    "        return pdf_parts\n",
    "    else:\n",
    "        raise FileNotFoundError(\"No file uploaded\")"
   ]
  },
  {
   "cell_type": "code",
   "execution_count": 2,
   "metadata": {},
   "outputs": [
    {
     "ename": "NameError",
     "evalue": "name 'st' is not defined",
     "output_type": "error",
     "traceback": [
      "\u001b[1;31m---------------------------------------------------------------------------\u001b[0m",
      "\u001b[1;31mNameError\u001b[0m                                 Traceback (most recent call last)",
      "Cell \u001b[1;32mIn[2], line 3\u001b[0m\n\u001b[0;32m      1\u001b[0m \u001b[38;5;66;03m## Creating the Streamlit and prompt template\u001b[39;00m\n\u001b[1;32m----> 3\u001b[0m \u001b[43mst\u001b[49m\u001b[38;5;241m.\u001b[39mset_page_config(page_title\u001b[38;5;241m=\u001b[39m\u001b[38;5;124m\"\u001b[39m\u001b[38;5;124mATS Resume Demo\u001b[39m\u001b[38;5;124m\"\u001b[39m)\n\u001b[0;32m      4\u001b[0m st\u001b[38;5;241m.\u001b[39mheader(\u001b[38;5;124m\"\u001b[39m\u001b[38;5;124mATS Tracking System\u001b[39m\u001b[38;5;124m\"\u001b[39m)\n\u001b[0;32m      5\u001b[0m input_text \u001b[38;5;241m=\u001b[39m st\u001b[38;5;241m.\u001b[39mtext_area(\u001b[38;5;124m\"\u001b[39m\u001b[38;5;124mJob Description: \u001b[39m\u001b[38;5;124m\"\u001b[39m,key\u001b[38;5;241m=\u001b[39m\u001b[38;5;124m\"\u001b[39m\u001b[38;5;124minput\u001b[39m\u001b[38;5;124m\"\u001b[39m)\n",
      "\u001b[1;31mNameError\u001b[0m: name 'st' is not defined"
     ]
    }
   ],
   "source": [
    "## Creating the Streamlit and prompt template\n",
    "\n",
    "st.set_page_config(page_title=\"ATS Resume Demo\")\n",
    "st.header(\"ATS Tracking System\")\n",
    "input_text = st.text_area(\"Job Description: \",key=\"input\")\n",
    "uploaded_file = st.file_uploader(\"Upload your Resume in PDF format..\",\n",
    "                                 type=[\"pdf\"])\n",
    "\n",
    "if uploaded_file is not None:\n",
    "    st.write(\"PDF Uploaded Successfully\")\n",
    "\n",
    "submit1 = st.button(\"Tell me about the Resume\")\n",
    "submit2 = st.button(\"Which position best suits this Resume?\")\n",
    "submit3 = st.button(\"Percentage match\")\n",
    "\n",
    "input_prompt1 = \"\"\"\n",
    "You are an experienced technical Human Resource Manager of the position \n",
    "listed in the job description, your task is to review the provided resume \n",
    "against the job description for this profile.\n",
    "Please share your professional evaluation on whether the candidate's \n",
    "profile align with this role.\n",
    "Highlights the strength and weaknesses of the applicant in relation to\n",
    "the specified job requirements.\n",
    "\"\"\"\n",
    "\n",
    "input_prompt2 = \"\"\"\n",
    "You are a seasoned career advisor with deep \n",
    "expertise in various industries and job roles. \n",
    "Given the following resume, your task is to \n",
    "analyze the candidate's qualifications, skills, \n",
    "and experience. Based on this analysis, provide a detailed \n",
    "recommendation of suitable job positions that align with the \n",
    "candidate's profile. \n",
    "\n",
    "Resume: \n",
    "[Insert resume content here]\n",
    "\n",
    "Your response should include:\n",
    "1. A summary of the candidate's strengths and key qualifications.\n",
    "2. A list of job positions that are well-suited for the candidate.\n",
    "3. An explanation of why these job positions are a good match for \n",
    "the candidate's background.\n",
    "4. Any additional advice or insights that could help the candidate \n",
    "in their job search.\n",
    "\n",
    "Please ensure your recommendations are specific and tailored to \n",
    "the candidate's unique profile.\n",
    "\"\"\"\n",
    "\n",
    "input_prompt3 = \"\"\"\n",
    "You are an skilled ATS (Applicant Tracking System) scanner with a deep \n",
    "understanding of job role listed in the job description and deep ATS \n",
    "functionality, your task is to evaluate the resume against the provided \n",
    "job description. Give me the percentage of match if the resume matches\n",
    "the job description. \n",
    "First the output should come as percentage, then keywords missing and \n",
    "last final thoughts should come in the order.\n",
    "\"\"\"\n",
    "\n",
    "if submit1:\n",
    "    if uploaded_file is not None:\n",
    "        pdf_content = input_pdf_setup(uploaded_file)\n",
    "        response = get_gemini_response(input_prompt1, \n",
    "                                       pdf_content, \n",
    "                                       input_text)\n",
    "        st.subheader(\"The Response is..\")\n",
    "        st.write(response)\n",
    "    else:\n",
    "        st.write(\"Please upload the resume\")\n",
    "\n",
    "elif submit2:\n",
    "    if uploaded_file is not None:\n",
    "        pdf_content = input_pdf_setup(uploaded_file)\n",
    "        response = get_gemini_response(input_prompt2, \n",
    "                                       pdf_content, \n",
    "                                       input_text)\n",
    "        st.subheader(\"The Response is..\")\n",
    "        st.write(response)\n",
    "    else:\n",
    "        st.write(\"Please upload the resume\")\n",
    "\n",
    "elif submit3:\n",
    "    if uploaded_file is not None:\n",
    "        pdf_content = input_pdf_setup(uploaded_file)\n",
    "        response = get_gemini_response(input_prompt3, \n",
    "                                       pdf_content, \n",
    "                                       input_text)\n",
    "        st.subheader(\"The Response is..\")\n",
    "        st.write(response)\n",
    "    else:\n",
    "        st.write(\"Please upload the resume\") "
   ]
  },
  {
   "cell_type": "code",
   "execution_count": null,
   "metadata": {},
   "outputs": [],
   "source": []
  }
 ],
 "metadata": {
  "kernelspec": {
   "display_name": "Python 3",
   "language": "python",
   "name": "python3"
  },
  "language_info": {
   "codemirror_mode": {
    "name": "ipython",
    "version": 3
   },
   "file_extension": ".py",
   "mimetype": "text/x-python",
   "name": "python",
   "nbconvert_exporter": "python",
   "pygments_lexer": "ipython3",
   "version": "3.10.0"
  }
 },
 "nbformat": 4,
 "nbformat_minor": 2
}
